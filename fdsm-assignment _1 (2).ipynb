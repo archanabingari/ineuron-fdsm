{
 "cells": [
  {
   "cell_type": "markdown",
   "id": "d8be5f0c",
   "metadata": {},
   "source": [
    "1)\n",
    "*-expression\n",
    "'hello'-value\n",
    "-87.8-expression\n",
    "-  - expression\n",
    "/ - expression\n",
    "+ - expression"
   ]
  },
  {
   "cell_type": "markdown",
   "id": "9fa8cce0",
   "metadata": {},
   "source": [
    "2)\n",
    "string is data type in python that  represent a sequence of characters enclosed in either single quotes('') or double quotes(\"\").\n",
    "example:\n",
    "name=\"archana\"\n",
    "course=\"data science\"\n",
    "where as variable holds the value in memory.it acts as a container for storing data.variables can hold different types of data.\n",
    "example:\n",
    "x=99\n",
    "y=\"ball\""
   ]
  },
  {
   "cell_type": "markdown",
   "id": "70eeb084",
   "metadata": {},
   "source": [
    "3)\n",
    "i)Integer(int):\n",
    "this data type represents whole numbers wiithout decimalpoints.\n",
    "x=10\n",
    "y=-99\n",
    "z=0\n",
    "ii)Float(float):\n",
    "this data type represents number with decimal points.\n",
    "a=11.67\n",
    "b=-23.5\n",
    "pi=3.14\n",
    "iii)List:\n",
    "iit is ordered sequence of elements enclosed in square brackets([]). They can hold different ttypes of elements.Lists are mutable.\n",
    "example:\n",
    "names = [\"archana\",\"shubham\",\"tom\"]\n",
    "fruits = [\"apple\",\"banana\",\"orange\"]\n",
    "ele = [1,\"apple\",2,\"hello\"]\n"
   ]
  },
  {
   "cell_type": "markdown",
   "id": "768e1ca1",
   "metadata": {},
   "source": [
    "4)\n",
    "An expression is a combination of values,variables,operators, and a function calls that evaluates to a single value.\n",
    "example:\n",
    "x=7\n",
    "y=10\n",
    "z=(x*y)/2\n",
    "this (x*y)/2 is an expression.\n",
    "expressions are used to compute and  derive values based on the given components.python operates expression based on operator precedence and rules.they are used tto perform calculations,make decisions,and generate new values. "
   ]
  },
  {
   "cell_type": "markdown",
   "id": "919b259c",
   "metadata": {},
   "source": [
    "5)\n",
    "statements do not produce  a value as a result.\n",
    "statements represents a complete instruction or command that carries out a specific task.\n",
    "here spam=10 this statement assign's 10 to variable spam\n",
    "Expression is combination of values,variables,operators,and function calls that evaluates to a value.they are used to compute or manipulate values and can be a part of larger statements.\n",
    "example:\n",
    "x=5+3\n"
   ]
  },
  {
   "cell_type": "markdown",
   "id": "95fa82c2",
   "metadata": {},
   "source": [
    "6)\n",
    "bacon stores 22"
   ]
  },
  {
   "cell_type": "markdown",
   "id": "9432891c",
   "metadata": {},
   "source": [
    "7)\n",
    "'spam'+'spamspam'\n",
    "->spamspamspam\n",
    "'spam'*3\n",
    "->'spamspamspam'"
   ]
  },
  {
   "cell_type": "markdown",
   "id": "31c397e2",
   "metadata": {},
   "source": [
    "8)\n",
    "there are specific guidelines for naming variables,andthese rules determine whether a name is considered valid or invalid.\n",
    "here are the rules--\n",
    "the variable name should contain only letter(a-z,A-Z),numbers anddd underscore.\n",
    "the variable name should start with a letter or underscore only.\n",
    "'eggs' is a valid variable name because it follows the rules for naming variables in python.It starts with a letter, and is not a reserved word.\n",
    "'100' is an invalid variable name because it starts with number,violating the rule that variable names must start with aetter or underscore."
   ]
  },
  {
   "cell_type": "markdown",
   "id": "747069bd",
   "metadata": {},
   "source": [
    "9)\n",
    "x=int(input(\"enter integer:\"))\n",
    "y=float(input(\"enter the floating point number:\"))\n",
    "s=input(\"enter the string:\")"
   ]
  },
  {
   "cell_type": "markdown",
   "id": "c36192d8",
   "metadata": {},
   "source": [
    "10)\n",
    "can only concatenate str (not \"int\") to str\n",
    "'i have eaten'+' 99 '+'burritos'"
   ]
  }
 ],
 "metadata": {
  "kernelspec": {
   "display_name": "Python 3 (ipykernel)",
   "language": "python",
   "name": "python3"
  },
  "language_info": {
   "codemirror_mode": {
    "name": "ipython",
    "version": 3
   },
   "file_extension": ".py",
   "mimetype": "text/x-python",
   "name": "python",
   "nbconvert_exporter": "python",
   "pygments_lexer": "ipython3",
   "version": "3.10.9"
  }
 },
 "nbformat": 4,
 "nbformat_minor": 5
}
