{
 "cells": [
  {
   "cell_type": "markdown",
   "id": "6ccf49db",
   "metadata": {},
   "source": [
    "1. \n",
    " [] is an empty list in python.lists are a data structure in Python used to store multiple items in a single variable.They are indicated by square brackets and can contain any type of data,including other lists.An empty list is simply a list that contains no items.\n",
    "\n",
    "In programming or computer science, the square brackets [] are often used to denote an array, list, or indexing operation, depending on the context.\n",
    "\n",
    "Arrays: In many programming languages, an array is a data structure that stores a collection of elements of the same type in contiguous memory locations. The square brackets are used to access individual elements within the array by specifying their index. For example, myArray[0] refers to the first element of the array myArray.\n",
    "\n",
    "Lists: Similarly, in some programming languages, lists are collections of elements that can be of different types and can dynamically change in size. Square brackets can be used to access elements within a list by their index, similar to arrays.\n",
    "\n",
    "Indexing: Square brackets can also be used for indexing operations, where they specify a particular position or range within a data structure or string. For example, myString[2] refers to the character at index 2 in the string myString.\n",
    "\n",
    "Here are some common uses of square brackets in Python:\n",
    "\n",
    "List Creation: Square brackets are used to define a new list. For example: my_list = [1, 2, 3, 4, 5]\n",
    "\n",
    "List Access: Square brackets are used to access individual elements within a list by specifying their index. Python uses zero-based indexing, meaning the first element has an index of 0. For example: my_list = [1, 2, 3, 4, 5] print(my_list[0]) # Output: 1\n",
    "\n",
    "Slicing: Square brackets can be used to extract a sublist (slice) from a list by specifying a range of indices. The slice includes the starting index but excludes the ending index. For example: my_list = [1, 2, 3, 4, 5] print(my_list[1:4]) # Output: [2, 3, 4]\n",
    "\n",
    "List Manipulation: Square brackets can be used for various list manipulation operations, such as adding or modifying elements. \n",
    "A list is created by placing items(elements) inside square brackets[] seperated by comma's.\n",
    "Lists are one of 4 built-in data types in Python used to store collections of data.\n",
    "A list can contain elements of  different data types.\n",
    "example: \n",
    "         fruits=[\"apple\",\"orage\",\"banana\"]\n",
    "         mylist=[1,2,\"ineuron\"]"
   ]
  },
  {
   "cell_type": "code",
   "execution_count": 6,
   "id": "0e5f7c09",
   "metadata": {},
   "outputs": [
    {
     "data": {
      "text/plain": [
       "[2, 4, 'hello', 8, 10]"
      ]
     },
     "execution_count": 6,
     "metadata": {},
     "output_type": "execute_result"
    }
   ],
   "source": [
    "#2.\n",
    "spam=[2,4,6,8,10]\n",
    "spam[2]=\"hello\"\n",
    "spam\n",
    "#output:[2, 4, 'hello', 8, 10]"
   ]
  },
  {
   "cell_type": "markdown",
   "id": "f8451e8a",
   "metadata": {},
   "source": [
    "3.\n",
    "spam=['a','b','c','d']\n",
    "The value of spam[int(int('3'*2/11)] is the same as spam[3],assuming that spam is a list with at least four elements.In Python,list indices start at 0, so spam[3] would give you the fourt element in the list.\n",
    "\n",
    "Let's break down the expression spam[int(int('3'*2)/11)] step by step:\n",
    "\n",
    "'3'2 results in the string '33'. Here, the asterisk is the string repetition operator, which duplicates the string '3' two times.\n",
    "\n",
    "int('33') converts the string '33' to an integer, resulting in the value 33.\n",
    "\n",
    "33/11 performs division, resulting in the float value 3.0. In Python 3.x, the division operator / returns a float value.\n",
    "\n",
    "int(3.0) converts the float value 3.0 to an integer, resulting in the value 3. The int() function truncates any fractional part and returns the integer portion.\n",
    "\n",
    "Finally, spam[3] accesses the element at index 3 in the list spam, using the integer 3 as the index. Remember that Python uses zero-based indexing, so the fourth element in the list is at index 3.\n",
    "\n",
    "Therefore, the value of spam[int(int('3'*2)/11)] depends on the current value of spam. If spam is ['a', 'b', 'c', 'd'], then spam[3] would be 'd'."
   ]
  },
  {
   "cell_type": "code",
   "execution_count": 10,
   "id": "8f742c65",
   "metadata": {},
   "outputs": [
    {
     "data": {
      "text/plain": [
       "'d'"
      ]
     },
     "execution_count": 10,
     "metadata": {},
     "output_type": "execute_result"
    }
   ],
   "source": [
    "#4 the values of spam[-1] will be the last element of the list spam that is 'd' as it is negative indexing\n",
    "spam=['a','b','c','d']\n",
    "spam[-1]\n",
    "#output:'d'"
   ]
  },
  {
   "cell_type": "code",
   "execution_count": 11,
   "id": "41e29865",
   "metadata": {},
   "outputs": [
    {
     "data": {
      "text/plain": [
       "['a', 'b']"
      ]
     },
     "execution_count": 11,
     "metadata": {},
     "output_type": "execute_result"
    }
   ],
   "source": [
    "#5 the value of spam[:2] will be the list elements at index 0,1 that is a,b \n",
    "spam=['a','b','c']\n",
    "spam[:2]\n",
    "#output:['a', 'b']"
   ]
  },
  {
   "cell_type": "code",
   "execution_count": 13,
   "id": "5f506209",
   "metadata": {},
   "outputs": [
    {
     "data": {
      "text/plain": [
       "1"
      ]
     },
     "execution_count": 13,
     "metadata": {},
     "output_type": "execute_result"
    }
   ],
   "source": [
    "#6\n",
    "bacon = [3.14, 'cat', 11, 'cat', True]\n",
    "# the value of \"bacon.index('cat')\" is the index value of 'cat' that is 1 since we have repeated values it will return the index value of the first appearance \n",
    "bacon.index('cat')\n",
    "#output:1"
   ]
  },
  {
   "cell_type": "code",
   "execution_count": 15,
   "id": "a666c96a",
   "metadata": {},
   "outputs": [
    {
     "data": {
      "text/plain": [
       "[3.14, 'cat', 11, 'cat', True, 99, 99]"
      ]
     },
     "execution_count": 15,
     "metadata": {},
     "output_type": "execute_result"
    }
   ],
   "source": [
    "#7 this will append or adds '99' to the end of the bacon list\n",
    "bacon.append(99)\n",
    "bacon\n",
    "#output:[3.14, 'cat', 11, 'cat', True, 99, 99]"
   ]
  },
  {
   "cell_type": "code",
   "execution_count": 17,
   "id": "529f6130",
   "metadata": {},
   "outputs": [
    {
     "data": {
      "text/plain": [
       "[3.14, 11, 'cat', True, 99, 99]"
      ]
     },
     "execution_count": 17,
     "metadata": {},
     "output_type": "execute_result"
    }
   ],
   "source": [
    "#8 this function we remove the 'cat' element from the bacon list(the first appearance of 'cat' will be remove)\n",
    "bacon.remove('cat')\n",
    "bacon\n",
    "# output:[3.14, 11, 'cat', True, 99, 99]"
   ]
  },
  {
   "cell_type": "code",
   "execution_count": 21,
   "id": "7c64a17a",
   "metadata": {},
   "outputs": [
    {
     "name": "stdout",
     "output_type": "stream",
     "text": [
      "[1, 2, 3, 4, 'a', 'b', 'c', 'd']\n",
      "[1, 2, 3, 4, 1, 2, 3, 4, 1, 2, 3, 4]\n"
     ]
    }
   ],
   "source": [
    "#9.\n",
    "\"\"\"List Concatenation and Replication\n",
    "As with strings, we can use the operators + and * to concatenate and replicate lists.\n",
    "\n",
    "When + appears between two lists, the expression will be evaluated as a new list that contains the elements from both lists. The elements in the list on the left of + will appear first, and the elements on the right will appear last.\n",
    "\n",
    "When * appears between a list and an integer, the expression will be evaluated as a new list that consists of several copies of the original list concatenated together. The number of copies is set by the integer.\n",
    "\"\"\"\n",
    "list1=[1,2,3,4]\n",
    "list2=['a','b','c','d']\n",
    "print(list1 + list2)\n",
    "#output:[1, 2, 3, 4, 'a', 'b', 'c', 'd']\n",
    "print(list1 * 3)\n",
    "#output:[1, 2, 3, 4, 1, 2, 3, 4, 1, 2, 3, 4]"
   ]
  },
  {
   "cell_type": "code",
   "execution_count": 20,
   "id": "0c5f65ec",
   "metadata": {},
   "outputs": [
    {
     "data": {
      "text/plain": [
       "[1, 2, 3, 4, 5, 11]"
      ]
     },
     "execution_count": 20,
     "metadata": {},
     "output_type": "execute_result"
    }
   ],
   "source": [
    "#10\n",
    "\"\"\"insert(): this method inserts element at the specified index.\n",
    "   append(): this method adds the element at the end of the list. there is no need of specifying the index.\n",
    "example: spam=[1,2,3,4,5]\n",
    "         spam.insert(2,10)---> this will insert 10 at second index of list\n",
    "         spam.append(11)---> this will add 11 to the end of list\n",
    "\"\"\"\n",
    "spam=[1,2,3,4,5]\n",
    "spam.insert(2,10)\n",
    "spam\n",
    "#output:[1, 2, 10, 3, 4, 5]\n",
    "spam=[1,2,3,4,5]\n",
    "spam.append(11)\n",
    "spam\n",
    "#output:[1, 2, 3, 4, 5, 11]"
   ]
  },
  {
   "cell_type": "code",
   "execution_count": 23,
   "id": "2a829c14",
   "metadata": {},
   "outputs": [
    {
     "name": "stdout",
     "output_type": "stream",
     "text": [
      "['apple', 'cherry']\n",
      "['apple', 'cherry']\n"
     ]
    }
   ],
   "source": [
    "#11\n",
    "\"\"\" \n",
    "remove() and pop() are the two methods to remove items from list \n",
    "The remove() method removes the specified item.\n",
    "The pop()  method  removes the element at specified index.\n",
    "\"\"\"\n",
    "thislist = [\"apple\", \"banana\", \"cherry\"]\n",
    "thislist.remove(\"banana\")\n",
    "print(thislist)\n",
    "#output:['apple', 'cherry']\n",
    "thislist = [\"apple\", \"banana\", \"cherry\"]\n",
    "thislist.pop(1)\n",
    "print(thislist)\n",
    "#output:['apple', 'cherry']"
   ]
  },
  {
   "cell_type": "markdown",
   "id": "4c31964f",
   "metadata": {},
   "source": [
    "12\n",
    "List values and string values share some similarities, but they are fundamentally different data types in Python. Here are some points of comparison:\n",
    "\n",
    "Sequential Structure: Both lists and strings are sequential structures that can store multiple values. Lists store a collection of arbitrary objects, while strings store a sequence of characters.\n",
    "\n",
    "1.Indexing: Both lists and strings support indexing, which allows accessing individual elements or characters by their position within the sequence. Indexing starts from 0 for both data types.\n",
    "\n",
    "2.Slicing: Lists and strings both support slicing, which allows extracting sub-sequences by specifying a range of indices. Slicing syntax and behavior are similar for both data types.\n",
    "\n",
    "3.Iteration: Both lists and strings can be iterated over using loops, such as for loops, to access each element or character in the sequence.\n",
    "\n",
    "4.Length: The len() function can be used to obtain the length (number of elements or characters) of both lists and strings.\n",
    "\n",
    "However, there are also significant differences between lists and strings:\n",
    "\n",
    "Mutability: Lists are mutable, meaning their elements can be modified, added, or removed. In contrast, strings are immutable, meaning they cannot be changed once created. Operations that appear to modify a string actually create a new string.\n",
    "\n",
    "Type of Elements: Lists can contain elements of different data types, such as numbers, strings, or even other lists. In contrast, strings are specifically designed to store sequences of characters.\n",
    "\n",
    "Available Methods: Lists and strings have different sets of available methods. For example, lists have methods like append(), remove(), and sort(), while strings have methods like upper(), lower(), and split().\n",
    "\n",
    "while lists and strings share some similarities in terms of their sequential structure and indexing capabilities, they differ in mutability, the type of elements they store, and the available methods. Understanding these differences is important for effectively working with lists and strings in Python."
   ]
  },
  {
   "cell_type": "markdown",
   "id": "24d72792",
   "metadata": {},
   "source": [
    "13\n",
    "list in python is an ordered collection of items.lists are similar to arrays in other languages, but with additional functionality.\n",
    "Lists are mutable,which means their elements can be changed(added,modified,deleted)after they are created.\n",
    "A list is created by placing items(elements) inside square brackets[] separated by commas.\n",
    "example:\n",
    "        mylist=[1,\"allice\",2.0,3]\n",
    "\n",
    "A tuple is a collection which is ordered and unchangeable.\n",
    "Tuples are immutable we cannot change, add or remove items after the tuple has been created.\n",
    "Tuples are written with round brackets\n",
    "tuples=()\n",
    "example:\n",
    "      tuples=(1,2,3)"
   ]
  },
  {
   "cell_type": "code",
   "execution_count": 28,
   "id": "2ccee4a9",
   "metadata": {},
   "outputs": [
    {
     "data": {
      "text/plain": [
       "42"
      ]
     },
     "execution_count": 28,
     "metadata": {},
     "output_type": "execute_result"
    }
   ],
   "source": [
    "#14\n",
    "tuple=(42) \n",
    "#or\n",
    "tuple = 42\n",
    "#Both of these notations will create a tuple with the value (42).\n",
    "tuple"
   ]
  },
  {
   "cell_type": "markdown",
   "id": "02e20298",
   "metadata": {},
   "source": [
    "15\n",
    "          getting  a list value's tuple form:\n",
    "Using the tuple() built-in function\n",
    "An iterable can be passed as an input to the tuple () function, which will convert it to a tuple object. \n",
    "If you want to convert a Python list to a tuple,\n",
    "you can use the tuple() function to pass the full list as an argument, and it will return the tuple data type as an output.\n",
    "exaample:\n",
    "        #initialize list\n",
    "        list=['Meredith', 'Kristen', 'Wright', 'Franklin']\n",
    "        #list to tuple\n",
    "        atuple= tuple(list)\n",
    "        print(atuple)\n",
    "        print(type(atuple))\n",
    "\n",
    "        getting a tuple value's list form:\n",
    "To convert a tuple into list in Python, call list() builtin function and pass the tuple as argument to the function. \n",
    "list() returns a new list generated from the items of the given tuple.\n",
    "example:\n",
    "        #initialize tuple\n",
    "        Tuple = (True, 28, 'Tiger')\n",
    "        #tuple to list\n",
    "        aList = list(Tuple)\n",
    "        print(aList)\n",
    "        print(typpe(aList))\n"
   ]
  },
  {
   "cell_type": "markdown",
   "id": "ad2e4b53",
   "metadata": {},
   "source": [
    "16\n",
    "In Python, variables are essentially names that refer to objects in memory. When you assign a list to a variable, the variable stores a reference (or memory address) pointing to the actual list object in memory. This means that the variable does not directly contain the list's elements but rather holds a reference to the memory location where the list is stored.\n",
    "\n",
    "Here's an example to illustrate this concept:\n",
    "\n",
    "my_list = [1, 2, 3]\n",
    "\n",
    "In this example, my_list is a variable that references a list object [1, 2, 3]. The variable my_list itself does not contain the list elements (1, 2, 3) directly. Instead, it contains a reference to the memory location where the list is stored.\n",
    "\n",
    "This distinction is important because it means that you can have multiple variables referencing the same list object. Modifying the list through one variable will be reflected in the list when accessed through other variables that refer to the same object. "
   ]
  },
  {
   "cell_type": "markdown",
   "id": "6a5b3caa",
   "metadata": {},
   "source": [
    "17\n",
    "The copy module in Python provides two methods for creating copies of objects: copy() and deepcopy(). Here's how you can distinguish between them:\n",
    "-->copy.copy(): creates a new object with references to the same elements as the original object, meaning modifications to mutable elements will be reflected in both the new and original objects.\n",
    "\n",
    "-->copy.deepcopy(): The deepcopy() function creates a deep copy of an object. It constructs a completely independent copy of the original object and recursively copies all the elements and nested objects within it. The new object and its elements are entirely separate from the original object. Changes made to the original object or its elements will not affect the deep copy, and vice versa.\n"
   ]
  }
 ],
 "metadata": {
  "kernelspec": {
   "display_name": "Python 3 (ipykernel)",
   "language": "python",
   "name": "python3"
  },
  "language_info": {
   "codemirror_mode": {
    "name": "ipython",
    "version": 3
   },
   "file_extension": ".py",
   "mimetype": "text/x-python",
   "name": "python",
   "nbconvert_exporter": "python",
   "pygments_lexer": "ipython3",
   "version": "3.10.9"
  }
 },
 "nbformat": 4,
 "nbformat_minor": 5
}
